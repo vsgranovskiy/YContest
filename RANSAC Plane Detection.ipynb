{
 "cells": [
  {
   "cell_type": "markdown",
   "metadata": {},
   "source": [
    "# RANSAC plane detection\n",
    "\n",
    "Full version with n-planes detection here: https://github.com/Hodapp87/ransac_planes/blob/master/Plane%20Detection.ipynb\n"
   ]
  },
  {
   "cell_type": "code",
   "execution_count": null,
   "metadata": {
    "collapsed": true
   },
   "outputs": [],
   "source": [
    "import numpy"
   ]
  },
  {
   "cell_type": "code",
   "execution_count": null,
   "metadata": {
    "collapsed": true
   },
   "outputs": [],
   "source": [
    "def ransac_step(data, thresh):\n",
    "    random_points = []\n",
    "    while(len(random_points) < 3):\n",
    "        rand_int = numpy.random.choice(data.shape[0])\n",
    "        if rand_int not in random_points:\n",
    "             random_points.append(rand_int)\n",
    "                \n",
    "    p0, p1, p2 = data[random_points[0], :], data[random_points[1], :], data[random_points[2], :]\n",
    "    \n",
    "    vectors = numpy.cross(p1 - p0, p2 - p0)\n",
    "    norm    = numpy.linalg.norm(vectors)\n",
    "    ABC     = vectors/norm\n",
    "    D       = -ABC.dot(p0)\n",
    "    \n",
    "    dist    = numpy.abs(ABC.dot(data.T) + D)\n",
    "    \n",
    "    pts_on_plane = dist <= thresh\n",
    "    std          = dist[pts_on_plane].std()\n",
    "\n",
    "    return pts_on_plane, std, ABC, D"
   ]
  },
  {
   "cell_type": "code",
   "execution_count": null,
   "metadata": {},
   "outputs": [],
   "source": [
    "filepath   = \"./src/test10points.txt\"\n",
    "datafile   = open(filepath, 'r')\n",
    "\n",
    "thresh  = float(datafile.readline())\n",
    "points_cnt = int(datafile.readline())\n",
    "\n",
    "data = numpy.zeros((points_cnt, 3))\n",
    "for i in range(data.shape[0]):\n",
    "    string = datafile.readline()\n",
    "    splited = string.split('\\t')\n",
    "    data[i] = [float(splited[0]), float(splited[1]), float(splited[2])]\n",
    "\n",
    "datafile.close()\n",
    "\n",
    "points = data\n",
    "\n",
    "ransac_steps = 200\n",
    "\n",
    "ABC_set = []\n",
    "D_set   = []\n",
    "\n",
    "pts2plane      = numpy.zeros(data.shape[0])\n",
    "pts2plane[:]   = -1\n",
    "unassigned_pts = pts2plane < 0\n",
    "\n",
    "best_num_pts_on_plane = 0\n",
    "best_pts_on_plane     = []\n",
    "best_std = numpy.inf\n",
    "best_ABC = None\n",
    "best_D = None\n",
    "\n",
    "for i in range(ransac_steps):\n",
    "    pts_on_plane, std, ABC, D = ransac_step(points[unassigned_pts,:], thresh)\n",
    "    num_pts_on_plane = pts_on_plane.sum()\n",
    "#     print(\"Num points on plane:\", num_pts_on_plane, \"Best:\", best_num_pts_on_plane)\n",
    "#     print(\"Std:\", std, \"Best: \", best_std)\n",
    "#     print(\"ABC:\", ABC, \"Best: \", best_ABC)\n",
    "#     print(\"D:\", D, \"Best:\", best_D, \"\\n\")\n",
    "    if num_pts_on_plane > best_num_pts_on_plane or \\\n",
    "    (num_pts_on_plane == best_num_pts_on_plane and std < best_std):\n",
    "        best_num_pts_on_plane = num_pts_on_plane\n",
    "        best_pts_on_plane = pts_on_plane\n",
    "        best_std = std\n",
    "        best_ABC = ABC\n",
    "        best_D = D\n",
    "\n",
    "\n",
    "print(\"BEST ABC = \", best_ABC, \"BEST D = \", best_D)"
   ]
  },
  {
   "cell_type": "markdown",
   "metadata": {},
   "source": [
    "**Код для вставки в Я.Контест**"
   ]
  },
  {
   "cell_type": "code",
   "execution_count": 2,
   "metadata": {},
   "outputs": [
    {
     "name": "stdout",
     "output_type": "stream",
     "text": [
      "0.010000 0.000000 -0.999950 0.000000\n"
     ]
    },
    {
     "name": "stderr",
     "output_type": "stream",
     "text": [
      "/Applications/anaconda/lib/python3.6/site-packages/ipykernel_launcher.py:19: RuntimeWarning: invalid value encountered in true_divide\n",
      "/Applications/anaconda/lib/python3.6/site-packages/ipykernel_launcher.py:24: RuntimeWarning: invalid value encountered in less_equal\n",
      "/Users/vladimir/.local/lib/python3.6/site-packages/numpy/core/_methods.py:140: RuntimeWarning: Degrees of freedom <= 0 for slice\n",
      "  keepdims=keepdims)\n",
      "/Users/vladimir/.local/lib/python3.6/site-packages/numpy/core/_methods.py:110: RuntimeWarning: invalid value encountered in true_divide\n",
      "  arrmean, rcount, out=arrmean, casting='unsafe', subok=False)\n",
      "/Users/vladimir/.local/lib/python3.6/site-packages/numpy/core/_methods.py:132: RuntimeWarning: invalid value encountered in double_scalars\n",
      "  ret = ret.dtype.type(ret / rcount)\n"
     ]
    }
   ],
   "source": [
    "# Before copy-paste check-list:\n",
    "#     - RESTART KERNEL AND TRY TO RUN AGAIN\n",
    "#     - ADD PARENTIES TO PRINT\n",
    "#     - CHECK INPUT FILENAME\n",
    "\n",
    "import numpy\n",
    "\n",
    "def ransac_step(data, thresh):\n",
    "    random_points = []\n",
    "    while(len(random_points) < 3):\n",
    "        rand_int = numpy.random.choice(data.shape[0])\n",
    "        if rand_int not in random_points:\n",
    "             random_points.append(rand_int)\n",
    "                \n",
    "    p0, p1, p2 = data[random_points[0], :], data[random_points[1], :], data[random_points[2], :]\n",
    "    \n",
    "    vectors = numpy.cross(p1 - p0, p2 - p0)\n",
    "    norm    = numpy.linalg.norm(vectors)\n",
    "    ABC     = vectors/norm\n",
    "    D       = -ABC.dot(p0)\n",
    "    \n",
    "    dist    = numpy.abs(ABC.dot(data.T) + D)\n",
    "    \n",
    "    pts_on_plane = dist <= thresh\n",
    "    std          = dist[pts_on_plane].std()\n",
    "\n",
    "    return pts_on_plane, std, ABC, D\n",
    "\n",
    "filepath   = \"./src/test10points.txt\"\n",
    "datafile   = open(filepath, 'r')\n",
    "thresh     = float(datafile.readline())\n",
    "points_cnt = int(datafile.readline())\n",
    "\n",
    "data = numpy.zeros((points_cnt, 3))\n",
    "for i in range(data.shape[0]):\n",
    "    string  = datafile.readline()\n",
    "    splited = string.split('\\t')\n",
    "    data[i] = [float(splited[0]), float(splited[1]), float(splited[2])]\n",
    "\n",
    "datafile.close()\n",
    "\n",
    "points = data\n",
    "\n",
    "ransac_steps = 200\n",
    "\n",
    "pts2plane      = numpy.zeros(data.shape[0])\n",
    "pts2plane[:]   = -1\n",
    "unassigned_pts = pts2plane < 0\n",
    "\n",
    "best_num_pts_on_plane = 0\n",
    "best_pts_on_plane     = []\n",
    "best_std = numpy.inf\n",
    "best_ABC = None\n",
    "best_D   = None\n",
    "\n",
    "for i in range(ransac_steps):\n",
    "    pts_on_plane, std, ABC, D = ransac_step(points[unassigned_pts,:], thresh)\n",
    "    num_pts_on_plane = pts_on_plane.sum()\n",
    "    if num_pts_on_plane > best_num_pts_on_plane or \\\n",
    "    (num_pts_on_plane == best_num_pts_on_plane and std < best_std):\n",
    "        best_num_pts_on_plane = num_pts_on_plane\n",
    "        best_pts_on_plane = pts_on_plane\n",
    "        best_std = std\n",
    "        best_ABC = ABC\n",
    "        best_D   = D\n",
    "\n",
    "A, B, C = best_ABC\n",
    "D       = best_D\n",
    "\n",
    "print (\"%.6f\" % (A), \"%.6f\" % (B), \"%.6f\" % (C), \"%.6f\" % (D))"
   ]
  },
  {
   "cell_type": "markdown",
   "metadata": {},
   "source": [
    "**Визуализация**"
   ]
  },
  {
   "cell_type": "code",
   "execution_count": null,
   "metadata": {
    "collapsed": true
   },
   "outputs": [],
   "source": [
    "from mpl_toolkits.mplot3d import Axes3D\n",
    "import matplotlib.pyplot as plt\n",
    "import matplotlib\n",
    "\n",
    "def plot_flat(data, A, B, C, D):\n",
    "    \n",
    "    X,Y = numpy.meshgrid(numpy.arange(-30.0, 30.0, 0.5), numpy.arange(-30.0, 30.0, 0.5))\n",
    "    \n",
    "    Z = -(A*X + B*Y + D)/C\n",
    "    \n",
    "    fig = plt.figure(figsize=(10, 10))\n",
    "    ax = fig.gca(projection='3d')\n",
    "    ax.plot_surface(X, Y, Z, rstride=1, cstride=1, alpha=1)\n",
    "    ax.scatter(data[:,0], data[:,1], data[:,2], c='r', s=10)\n",
    "    plt.xlabel('X')\n",
    "    plt.ylabel('Y')\n",
    "    ax.set_zlabel('Z')\n",
    "    ax.axis('equal')\n",
    "    ax.axis('tight')\n",
    "    plt.show()"
   ]
  },
  {
   "cell_type": "code",
   "execution_count": null,
   "metadata": {},
   "outputs": [],
   "source": [
    "%matplotlib notebook\n",
    "A, B, C = best_ABC\n",
    "D = best_D\n",
    "print(A, B, C, D)\n",
    "plot_flat(data, A, B, C, D)"
   ]
  },
  {
   "cell_type": "code",
   "execution_count": null,
   "metadata": {
    "collapsed": true
   },
   "outputs": [],
   "source": []
  }
 ],
 "metadata": {
  "kernelspec": {
   "display_name": "Python 3",
   "language": "python",
   "name": "python3"
  },
  "language_info": {
   "codemirror_mode": {
    "name": "ipython",
    "version": 3
   },
   "file_extension": ".py",
   "mimetype": "text/x-python",
   "name": "python",
   "nbconvert_exporter": "python",
   "pygments_lexer": "ipython3",
   "version": "3.6.8"
  }
 },
 "nbformat": 4,
 "nbformat_minor": 2
}
