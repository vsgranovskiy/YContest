{
 "cells": [
  {
   "cell_type": "code",
   "execution_count": 0,
   "metadata": {
    "colab": {
     "base_uri": "https://localhost:8080/",
     "height": 36
    },
    "colab_type": "code",
    "id": "7VD-kZRJ4yxu",
    "outputId": "b45c5140-4bc8-4cba-f972-b7e39c835b31"
   },
   "outputs": [
    {
     "name": "stdout",
     "output_type": "stream",
     "text": [
      "Drive already mounted at /content/gdrive; to attempt to forcibly remount, call drive.mount(\"/content/gdrive\", force_remount=True).\n"
     ]
    }
   ],
   "source": [
    "from google.colab import drive\n",
    "drive.mount('/content/gdrive')"
   ]
  },
  {
   "cell_type": "code",
   "execution_count": 0,
   "metadata": {
    "colab": {},
    "colab_type": "code",
    "id": "YSwH7st25GrU"
   },
   "outputs": [],
   "source": [
    "filepath = \"/content/gdrive/My Drive/Colab Notebooks/ya/vova/src/sdc_point_cloud.txt\"\n",
    "#filepath   = \"./input.txt\""
   ]
  },
  {
   "cell_type": "code",
   "execution_count": 1,
   "metadata": {
    "colab": {
     "base_uri": "https://localhost:8080/",
     "height": 36
    },
    "colab_type": "code",
    "id": "Ae6IPWup5U_U",
    "outputId": "066d948f-d0f1-4155-affc-c225a53544fe"
   },
   "outputs": [
    {
     "name": "stdout",
     "output_type": "stream",
     "text": [
      "('0.001159', '0.000981', '-0.999999', '-0.053535')\n"
     ]
    }
   ],
   "source": [
    "import numpy as np\n",
    "import time\n",
    "\n",
    "filepath = \"./src/sdc_point_cloud.txt\"\n",
    "\n",
    "# Загрузить массив точек\n",
    "\n",
    "file = open(filepath, 'r')\n",
    "thld  = float(file.readline())\n",
    "point_qnt = int(file.readline())\n",
    "\n",
    "#print(point_qnt)\n",
    "\n",
    "data = np.zeros((point_qnt, 3))\n",
    "\n",
    "for i in range(point_qnt):\n",
    "  point_str = file.readline()\n",
    "  point_arr = point_str.split('\\t')\n",
    "  for j in range(len(point_arr)):\n",
    "    data[i][j] = float(point_arr[j])\n",
    "\n",
    "\n",
    "file.close()\n",
    "\n",
    "# Выбрать 3 рандомные точки из массива\n",
    "\n",
    "def rnd_pnt(point_qnt):\n",
    "  px3_arr = np.zeros((3, 1))\n",
    "  i = 0\n",
    "  while(i < 2):\n",
    "    random_p = np.random.randint(point_qnt)                        \n",
    "    if random_p not in px3_arr:\n",
    "      px3_arr[i] = random_p\n",
    "      i+= 1\n",
    "  return px3_arr\n",
    "\n",
    "# Дистанция от точек до плоскости: Distance = (| a*x1 + b*y1 + c*z1 + d |) / (sqrt( a*a + b*b + c*c))\n",
    "def shortest_distance(point, a, b, c, d):  \n",
    "  x1, y1, z1 = point\n",
    "  d = abs((a * x1 + b * y1 + c * z1 + d)) \n",
    "  e = (np.sqrt(a * a + b * b + c * c)) \n",
    "  return d/e\n",
    "\n",
    "done = 0\n",
    "best_cntr = 0\n",
    "best_std = 0\n",
    "best_coeff = np.zeros((4, 1))\n",
    "\n",
    "#while (done == 0):\n",
    "for i in range(100):\n",
    "\n",
    "  random_points = rnd_pnt(point_qnt)\n",
    "\n",
    "  pnt0 = data[int(random_points[0])]\n",
    "  pnt1 = data[int(random_points[1])]\n",
    "  pnt2 = data[int(random_points[2])]\n",
    "\n",
    "  #4 расчёт коэффициентов для уравнения плоскости\n",
    "  x0, y0, z0 = pnt0\n",
    "  x1, y1, z1 = pnt1\n",
    "  x2, y2, z2 = pnt2\n",
    "\n",
    "  ux, uy, uz  = [x1-x0, y1-y0, z1-z0]\n",
    "  vx, vy, vz  = [x2-x0, y2-y0, z2-z0]\n",
    "\n",
    "  u_cross_v = [uy*vz-uz*vy, uz*vx-ux*vz, ux*vy-uy*vx]\n",
    "\n",
    "  point  = np.array(pnt0)\n",
    "  normal = np.array(u_cross_v)\n",
    "\n",
    "  nrm = np.linalg.norm(normal)\n",
    "\n",
    "  if nrm == 0:\n",
    "    nrm = 1\n",
    "\n",
    "  a = normal[0]/nrm\n",
    "  b = normal[1]/nrm\n",
    "  c = normal[2]/nrm\n",
    "  d = -normal.dot(pnt0)/nrm\n",
    "  \n",
    "  dist = np.zeros((point_qnt, 1))\n",
    "  point_on_plane = np.zeros((point_qnt, 1))\n",
    "\n",
    "  cntr = 0\n",
    "  done = 0\n",
    "  \n",
    "  time.clock()\n",
    "  #5 Посчитать количство точек, принадлежащих плоскости\n",
    "  for i in range(point_qnt):\n",
    "    dist[i] = shortest_distance(data[i], a, b, c ,d)\n",
    "    if dist[i] < thld:\n",
    "      cntr += 1\n",
    "      point_on_plane[i] = 1\n",
    "\n",
    "  time \n",
    "      \n",
    "  pts_on_plane = dist <= thld\n",
    "  std          = dist[pts_on_plane].std()\n",
    "  \n",
    "\n",
    "  if (cntr > best_cntr) or (cntr == best_cntr and std < best_std):\n",
    "    best_coeff = a, b, c, d\n",
    "    best_std = std\n",
    "     \n",
    "  if cntr >= point_qnt/2:\n",
    "    done = 1\n",
    "  else:\n",
    "    done = 0\n",
    "    \n",
    "  \n",
    "\n",
    "print (\"%.6f\" % (best_coeff[0]), \"%.6f\" % (best_coeff[1]), \"%.6f\" % (best_coeff[2]), \"%.6f\" % (best_coeff[3]))"
   ]
  },
  {
   "cell_type": "code",
   "execution_count": null,
   "metadata": {},
   "outputs": [],
   "source": []
  }
 ],
 "metadata": {
  "colab": {
   "collapsed_sections": [],
   "name": "Untitled",
   "provenance": [],
   "version": "0.3.2"
  },
  "kernelspec": {
   "display_name": "Python 2",
   "language": "python",
   "name": "python2"
  },
  "language_info": {
   "codemirror_mode": {
    "name": "ipython",
    "version": 2
   },
   "file_extension": ".py",
   "mimetype": "text/x-python",
   "name": "python",
   "nbconvert_exporter": "python",
   "pygments_lexer": "ipython2",
   "version": "2.7.15"
  }
 },
 "nbformat": 4,
 "nbformat_minor": 1
}
