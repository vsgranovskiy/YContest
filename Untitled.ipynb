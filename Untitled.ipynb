{
 "cells": [
  {
   "cell_type": "code",
   "execution_count": 26,
   "metadata": {},
   "outputs": [
    {
     "name": "stdout",
     "output_type": "stream",
     "text": [
      "('Time for:', -0.09241499999999903)\n",
      "(array([-0.43596278, -0.35277933,  0.82793913, -8.5510401 ]), 1258.9597672955024)\n",
      "('Time While: ', -0.00012299999999854094)\n",
      "(array([-0.43596278, -0.35277933,  0.82793913, -8.5510401 ]), 1258.9597672955024)\n"
     ]
    }
   ],
   "source": [
    "import time\n",
    "import numpy\n",
    "\n",
    "def load_data(filename):\n",
    "    datafile   = open(filename, 'r')\n",
    "\n",
    "    thresh  = float(datafile.readline())\n",
    "    points_cnt = int(datafile.readline())\n",
    "\n",
    "    data = numpy.zeros((points_cnt, 3))\n",
    "    for i in range(data.shape[0]):\n",
    "        string = datafile.readline()\n",
    "        splited = string.split('\\t')\n",
    "        data[i] = [float(splited[0]), float(splited[1]), float(splited[2])]\n",
    "\n",
    "    datafile.close()\n",
    "    \n",
    "    return (data)\n",
    "\n",
    "def get_rand_pts(data):\n",
    "    rand_indexes = []\n",
    "    while(len(rand_indexes) < 3):\n",
    "        rand_int = numpy.random.choice(data.shape[0])\n",
    "        if rand_int not in rand_indexes:\n",
    "             rand_indexes.append(rand_int)\n",
    "                \n",
    "    rand_pts = data[rand_indexes[0], :], data[rand_indexes[1], :], data[rand_indexes[2], :]\n",
    "    return (rand_pts)\n",
    "\n",
    "def make_plane(rand_pts):\n",
    "    vectors = numpy.cross(rand_pts[1] - rand_pts[0], rand_pts[2] - rand_pts[0])\n",
    "    norm    = numpy.linalg.norm(vectors)\n",
    "    ABC     = vectors/norm \n",
    "    D       = -ABC.dot(rand_pts[0])\n",
    "    ABCD    = numpy.hstack([ABC, D])\n",
    "    return ABCD\n",
    "\n",
    "def check_dist(data, ABCD, thresh):\n",
    "    dist = numpy.abs(ABCD[:3].dot(data.T) + ABCD[3])\n",
    "    pts_on_plane         = dist <= thresh\n",
    "    num_pts_on_plane     = dist.sum()\n",
    "    assigned_pts_procent = (num_pts_on_plane * 100)/data.shape[0]\n",
    "#     std = \n",
    "    procent = (num_pts_on_plane * 100) / data.shape[0]\n",
    "    return (dist, procent)\n",
    "\n",
    "def ransac_step(data, thresh):\n",
    "    ABCD = make_plane(get_rand_pts(data))\n",
    "    dist, procent = check_dist(data, ABCD, thresh)\n",
    "    return (ABCD, procent)\n",
    "\n",
    "filepath = \"./src/sdc_point_cloud.txt\"\n",
    "data     = load_data(filepath)\n",
    "\n",
    "ABCD    = []\n",
    "procent = 0\n",
    "\n",
    "a = time.clock()\n",
    "\n",
    "for i in range(200):\n",
    "    ABCD, procent = ransac_step(data, thresh)\n",
    "\n",
    "print(\"Time for:\", a - time.clock())\n",
    "print (ABCD, procent)\n",
    "\n",
    "b = time.clock()\n",
    "while (procent < 50):\n",
    "    ABCD, procent = ransac_step(data, thresh)\n",
    "    \n",
    "print(\"Time While: \",b - time.clock())\n",
    "print (ABCD, procent)"
   ]
  },
  {
   "cell_type": "code",
   "execution_count": 9,
   "metadata": {},
   "outputs": [
    {
     "name": "stdout",
     "output_type": "stream",
     "text": [
      "5\n"
     ]
    }
   ],
   "source": [
    "import numpy\n",
    "d = numpy.array([1, 2, 3, 4, 5, 6, 7, 8])\n",
    "\n",
    "dist = d > 3\n",
    "print(dist.sum())"
   ]
  },
  {
   "cell_type": "code",
   "execution_count": null,
   "metadata": {},
   "outputs": [],
   "source": []
  }
 ],
 "metadata": {
  "kernelspec": {
   "display_name": "Python 2",
   "language": "python",
   "name": "python2"
  },
  "language_info": {
   "codemirror_mode": {
    "name": "ipython",
    "version": 2
   },
   "file_extension": ".py",
   "mimetype": "text/x-python",
   "name": "python",
   "nbconvert_exporter": "python",
   "pygments_lexer": "ipython2",
   "version": "2.7.15"
  }
 },
 "nbformat": 4,
 "nbformat_minor": 2
}
